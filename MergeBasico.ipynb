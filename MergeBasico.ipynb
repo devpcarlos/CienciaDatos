{
 "cells": [
  {
   "cell_type": "code",
   "id": "9044c18f-e70c-449e-9317-c666349feda9",
   "metadata": {
    "ExecuteTime": {
     "end_time": "2025-02-18T22:56:58.821650Z",
     "start_time": "2025-02-18T22:56:58.816680Z"
    }
   },
   "source": "import pandas as pd",
   "outputs": [],
   "execution_count": 2
  },
  {
   "cell_type": "code",
   "id": "85d0d0f8-98fc-4430-b16c-b13fcbeb67fe",
   "metadata": {
    "ExecuteTime": {
     "end_time": "2025-02-18T23:00:33.394727Z",
     "start_time": "2025-02-18T23:00:33.380342Z"
    }
   },
   "source": [
    "clientes = pd.DataFrame({\n",
    "    'ClienteID': [1,2,3],\n",
    "    'Nombre': ['Ana', 'Luis', 'Marta']\n",
    "})\n",
    "clientes"
   ],
   "outputs": [
    {
     "data": {
      "text/plain": [
       "   ClienteID Nombre\n",
       "0          1    Ana\n",
       "1          2   Luis\n",
       "2          3  Marta"
      ],
      "text/html": [
       "<div>\n",
       "<style scoped>\n",
       "    .dataframe tbody tr th:only-of-type {\n",
       "        vertical-align: middle;\n",
       "    }\n",
       "\n",
       "    .dataframe tbody tr th {\n",
       "        vertical-align: top;\n",
       "    }\n",
       "\n",
       "    .dataframe thead th {\n",
       "        text-align: right;\n",
       "    }\n",
       "</style>\n",
       "<table border=\"1\" class=\"dataframe\">\n",
       "  <thead>\n",
       "    <tr style=\"text-align: right;\">\n",
       "      <th></th>\n",
       "      <th>ClienteID</th>\n",
       "      <th>Nombre</th>\n",
       "    </tr>\n",
       "  </thead>\n",
       "  <tbody>\n",
       "    <tr>\n",
       "      <th>0</th>\n",
       "      <td>1</td>\n",
       "      <td>Ana</td>\n",
       "    </tr>\n",
       "    <tr>\n",
       "      <th>1</th>\n",
       "      <td>2</td>\n",
       "      <td>Luis</td>\n",
       "    </tr>\n",
       "    <tr>\n",
       "      <th>2</th>\n",
       "      <td>3</td>\n",
       "      <td>Marta</td>\n",
       "    </tr>\n",
       "  </tbody>\n",
       "</table>\n",
       "</div>"
      ]
     },
     "execution_count": 5,
     "metadata": {},
     "output_type": "execute_result"
    }
   ],
   "execution_count": 5
  },
  {
   "metadata": {
    "ExecuteTime": {
     "end_time": "2025-02-18T23:02:12.319548Z",
     "start_time": "2025-02-18T23:02:12.308919Z"
    }
   },
   "cell_type": "code",
   "source": [
    "pedidos= pd.DataFrame({\n",
    "    'PedidoID': [101,102,103],\n",
    "    'ClienteID': [1,2,3],\n",
    "    'Producto': ['Laptop', 'Mouse', 'Teclado']\n",
    "})\n",
    "pedidos"
   ],
   "id": "addfef9911a066cb",
   "outputs": [
    {
     "data": {
      "text/plain": [
       "   PedidoID  ClienteID Producto\n",
       "0       101          1   Laptop\n",
       "1       102          2    Mouse\n",
       "2       103          3  Teclado"
      ],
      "text/html": [
       "<div>\n",
       "<style scoped>\n",
       "    .dataframe tbody tr th:only-of-type {\n",
       "        vertical-align: middle;\n",
       "    }\n",
       "\n",
       "    .dataframe tbody tr th {\n",
       "        vertical-align: top;\n",
       "    }\n",
       "\n",
       "    .dataframe thead th {\n",
       "        text-align: right;\n",
       "    }\n",
       "</style>\n",
       "<table border=\"1\" class=\"dataframe\">\n",
       "  <thead>\n",
       "    <tr style=\"text-align: right;\">\n",
       "      <th></th>\n",
       "      <th>PedidoID</th>\n",
       "      <th>ClienteID</th>\n",
       "      <th>Producto</th>\n",
       "    </tr>\n",
       "  </thead>\n",
       "  <tbody>\n",
       "    <tr>\n",
       "      <th>0</th>\n",
       "      <td>101</td>\n",
       "      <td>1</td>\n",
       "      <td>Laptop</td>\n",
       "    </tr>\n",
       "    <tr>\n",
       "      <th>1</th>\n",
       "      <td>102</td>\n",
       "      <td>2</td>\n",
       "      <td>Mouse</td>\n",
       "    </tr>\n",
       "    <tr>\n",
       "      <th>2</th>\n",
       "      <td>103</td>\n",
       "      <td>3</td>\n",
       "      <td>Teclado</td>\n",
       "    </tr>\n",
       "  </tbody>\n",
       "</table>\n",
       "</div>"
      ]
     },
     "execution_count": 6,
     "metadata": {},
     "output_type": "execute_result"
    }
   ],
   "execution_count": 6
  },
  {
   "metadata": {
    "ExecuteTime": {
     "end_time": "2025-02-18T23:03:06.568934Z",
     "start_time": "2025-02-18T23:03:06.556035Z"
    }
   },
   "cell_type": "code",
   "source": [
    "combinando = pd.merge(clientes, pedidos, on='ClienteID', how='inner')\n",
    "combinando"
   ],
   "id": "77712ab922ecb82a",
   "outputs": [
    {
     "data": {
      "text/plain": [
       "   ClienteID Nombre  PedidoID Producto\n",
       "0          1    Ana       101   Laptop\n",
       "1          2   Luis       102    Mouse\n",
       "2          3  Marta       103  Teclado"
      ],
      "text/html": [
       "<div>\n",
       "<style scoped>\n",
       "    .dataframe tbody tr th:only-of-type {\n",
       "        vertical-align: middle;\n",
       "    }\n",
       "\n",
       "    .dataframe tbody tr th {\n",
       "        vertical-align: top;\n",
       "    }\n",
       "\n",
       "    .dataframe thead th {\n",
       "        text-align: right;\n",
       "    }\n",
       "</style>\n",
       "<table border=\"1\" class=\"dataframe\">\n",
       "  <thead>\n",
       "    <tr style=\"text-align: right;\">\n",
       "      <th></th>\n",
       "      <th>ClienteID</th>\n",
       "      <th>Nombre</th>\n",
       "      <th>PedidoID</th>\n",
       "      <th>Producto</th>\n",
       "    </tr>\n",
       "  </thead>\n",
       "  <tbody>\n",
       "    <tr>\n",
       "      <th>0</th>\n",
       "      <td>1</td>\n",
       "      <td>Ana</td>\n",
       "      <td>101</td>\n",
       "      <td>Laptop</td>\n",
       "    </tr>\n",
       "    <tr>\n",
       "      <th>1</th>\n",
       "      <td>2</td>\n",
       "      <td>Luis</td>\n",
       "      <td>102</td>\n",
       "      <td>Mouse</td>\n",
       "    </tr>\n",
       "    <tr>\n",
       "      <th>2</th>\n",
       "      <td>3</td>\n",
       "      <td>Marta</td>\n",
       "      <td>103</td>\n",
       "      <td>Teclado</td>\n",
       "    </tr>\n",
       "  </tbody>\n",
       "</table>\n",
       "</div>"
      ]
     },
     "execution_count": 8,
     "metadata": {},
     "output_type": "execute_result"
    }
   ],
   "execution_count": 8
  },
  {
   "metadata": {},
   "cell_type": "code",
   "outputs": [],
   "execution_count": null,
   "source": "",
   "id": "57a5ba6cd5b61b8d"
  }
 ],
 "metadata": {
  "kernelspec": {
   "display_name": "Python [conda env:base] *",
   "language": "python",
   "name": "conda-base-py"
  },
  "language_info": {
   "codemirror_mode": {
    "name": "ipython",
    "version": 3
   },
   "file_extension": ".py",
   "mimetype": "text/x-python",
   "name": "python",
   "nbconvert_exporter": "python",
   "pygments_lexer": "ipython3",
   "version": "3.12.7"
  }
 },
 "nbformat": 4,
 "nbformat_minor": 5
}
