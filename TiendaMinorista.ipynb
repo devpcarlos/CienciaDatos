{
 "cells": [
  {
   "cell_type": "code",
   "execution_count": 3,
   "id": "initial_id",
   "metadata": {
    "jupyter": {
     "is_executing": true
    }
   },
   "outputs": [],
   "source": [
    "import random\n",
    "\n",
    "import pandas as pd\n",
    "import numpy as np\n",
    "import matplotlib.pyplot as plt\n",
    "import seaborn as sns"
   ]
  },
  {
   "cell_type": "code",
   "execution_count": 5,
   "id": "f0b15e3f179484c4",
   "metadata": {
    "jupyter": {
     "is_executing": true
    }
   },
   "outputs": [],
   "source": [
    "#Configurar semilla para reproducibilidad\n",
    "np.random.seed(42)"
   ]
  },
  {
   "cell_type": "code",
   "execution_count": 7,
   "id": "19013d1430b3050c",
   "metadata": {
    "jupyter": {
     "is_executing": true
    }
   },
   "outputs": [],
   "source": [
    "#Generar fechas de 2023 (diarias)\n",
    "fechas = pd.date_range(start='2023-01-01', end='2023-12-31', freq='D')"
   ]
  },
  {
   "cell_type": "code",
   "execution_count": 9,
   "id": "50903405abaa0f38",
   "metadata": {
    "jupyter": {
     "is_executing": true
    }
   },
   "outputs": [],
   "source": [
    "#generar datos aleatorios\n",
    "data= {\n",
    "    'Fecha' : fechas,\n",
    "    'Categoria' : np.random.choice(['Electronicos','Ropa','Hogar'], size=len(fechas)),\n",
    "    'Precio_Unitario': np.random.uniform(10, 500, size=len(fechas)),\n",
    "    'Cantidad' : np.random.randint(1, 20, size=len(fechas))\n",
    "}"
   ]
  },
  {
   "cell_type": "code",
   "execution_count": 11,
   "id": "905e5da909334948",
   "metadata": {
    "jupyter": {
     "is_executing": true
    }
   },
   "outputs": [],
   "source": [
    "#Crear DataFrame\n",
    "df = pd.DataFrame(data)"
   ]
  },
  {
   "cell_type": "code",
   "execution_count": 19,
   "id": "5b648aa074549165",
   "metadata": {
    "ExecuteTime": {
     "end_time": "2025-02-03T15:46:00.153751Z",
     "start_time": "2025-02-03T15:46:00.132424Z"
    }
   },
   "outputs": [],
   "source": [
    "#Calcular venta diaria\n",
    "df['Venta_total']= df['Precio_Unitario'] * df['Cantidad']"
   ]
  },
  {
   "cell_type": "code",
   "execution_count": 21,
   "id": "d878427a04088d38",
   "metadata": {
    "jupyter": {
     "is_executing": true
    }
   },
   "outputs": [],
   "source": [
    "#Extraer mes y dia de la semana\n",
    "df['Mes'] = df['Fecha'].dt.month_name()\n",
    "df['Dia_Semana'] = df['Fecha'].dt.day_name()"
   ]
  },
  {
   "cell_type": "code",
   "execution_count": 23,
   "id": "111087c810e1fd8c",
   "metadata": {
    "jupyter": {
     "is_executing": true
    }
   },
   "outputs": [
    {
     "name": "stdout",
     "output_type": "stream",
     "text": [
      "       Fecha     Categoria  Precio_Unitario  Cantidad  Venta_totoal      Mes  \\\n",
      "0 2023-01-01         Hogar       289.329973        14   4050.619627  January   \n",
      "1 2023-01-02  Electronicos        57.616482        14    806.630747  January   \n",
      "2 2023-01-03         Hogar       311.353541         2    622.707082  January   \n",
      "3 2023-01-04         Hogar       495.126387        13   6436.643025  January   \n",
      "4 2023-01-05  Electronicos        78.641167        14   1100.976345  January   \n",
      "\n",
      "  Dia_Semana  Venta_total  \n",
      "0     Sunday  4050.619627  \n",
      "1     Monday   806.630747  \n",
      "2    Tuesday   622.707082  \n",
      "3  Wednesday  6436.643025  \n",
      "4   Thursday  1100.976345  \n"
     ]
    }
   ],
   "source": [
    "print(df.head())"
   ]
  },
  {
   "cell_type": "code",
   "execution_count": 25,
   "id": "3c54fc792a506d53",
   "metadata": {
    "ExecuteTime": {
     "end_time": "2025-02-03T15:45:49.684892Z",
     "start_time": "2025-02-03T15:45:49.665371Z"
    }
   },
   "outputs": [],
   "source": [
    "#Ventas totales por categoria\n",
    "ventas_por_categoria = df.groupby('Categoria')['Venta_total'].sum().reset_index()"
   ]
  },
  {
   "metadata": {
    "ExecuteTime": {
     "end_time": "2025-02-03T15:51:02.621192Z",
     "start_time": "2025-02-03T15:51:02.596620Z"
    }
   },
   "cell_type": "code",
   "source": [
    "#ventas mensuales promedio\n",
    "ventas_mensuales = df.groupby('Mes')['Venta_total'].mean().reset_index()"
   ],
   "id": "3c393ec3b4a42f96",
   "outputs": [
    {
     "ename": "NameError",
     "evalue": "name 'df' is not defined",
     "output_type": "error",
     "traceback": [
      "\u001B[1;31m---------------------------------------------------------------------------\u001B[0m",
      "\u001B[1;31mNameError\u001B[0m                                 Traceback (most recent call last)",
      "Cell \u001B[1;32mIn[9], line 2\u001B[0m\n\u001B[0;32m      1\u001B[0m \u001B[38;5;66;03m#ventas mensuales promedio\u001B[39;00m\n\u001B[1;32m----> 2\u001B[0m ventas_mensuales \u001B[38;5;241m=\u001B[39m df\u001B[38;5;241m.\u001B[39mgroupby(\u001B[38;5;124m'\u001B[39m\u001B[38;5;124mMes\u001B[39m\u001B[38;5;124m'\u001B[39m)[\u001B[38;5;124m'\u001B[39m\u001B[38;5;124mVenta_total\u001B[39m\u001B[38;5;124m'\u001B[39m]\u001B[38;5;241m.\u001B[39mmean()\u001B[38;5;241m.\u001B[39mreset_index()\n",
      "\u001B[1;31mNameError\u001B[0m: name 'df' is not defined"
     ]
    }
   ],
   "execution_count": 9
  },
  {
   "metadata": {
    "ExecuteTime": {
     "end_time": "2025-02-03T15:51:05.100716Z",
     "start_time": "2025-02-03T15:51:05.076514Z"
    }
   },
   "cell_type": "code",
   "source": [
    "#Dias de la semana con mas ventas\n",
    "ventas_por_dia = df.groupby('Dia_Semana')['Venta_total'].sum().reindex(\n",
    "    ['Lunes','Martes','Miercoles','Jueves','Viernes','Sabado','Domingo']\n",
    ").reset_index()"
   ],
   "id": "5890fb7f3e2b469d",
   "outputs": [
    {
     "ename": "NameError",
     "evalue": "name 'df' is not defined",
     "output_type": "error",
     "traceback": [
      "\u001B[1;31m---------------------------------------------------------------------------\u001B[0m",
      "\u001B[1;31mNameError\u001B[0m                                 Traceback (most recent call last)",
      "Cell \u001B[1;32mIn[10], line 2\u001B[0m\n\u001B[0;32m      1\u001B[0m \u001B[38;5;66;03m#Dias de la semana con mas ventas\u001B[39;00m\n\u001B[1;32m----> 2\u001B[0m ventas_por_dia \u001B[38;5;241m=\u001B[39m df\u001B[38;5;241m.\u001B[39mgroupby(\u001B[38;5;124m'\u001B[39m\u001B[38;5;124mDia_Semana\u001B[39m\u001B[38;5;124m'\u001B[39m)[\u001B[38;5;124m'\u001B[39m\u001B[38;5;124mVenta_total\u001B[39m\u001B[38;5;124m'\u001B[39m]\u001B[38;5;241m.\u001B[39msum()\u001B[38;5;241m.\u001B[39mreindex(\n\u001B[0;32m      3\u001B[0m     [\u001B[38;5;124m'\u001B[39m\u001B[38;5;124mLunes\u001B[39m\u001B[38;5;124m'\u001B[39m,\u001B[38;5;124m'\u001B[39m\u001B[38;5;124mMartes\u001B[39m\u001B[38;5;124m'\u001B[39m,\u001B[38;5;124m'\u001B[39m\u001B[38;5;124mMiercoles\u001B[39m\u001B[38;5;124m'\u001B[39m,\u001B[38;5;124m'\u001B[39m\u001B[38;5;124mJueves\u001B[39m\u001B[38;5;124m'\u001B[39m,\u001B[38;5;124m'\u001B[39m\u001B[38;5;124mViernes\u001B[39m\u001B[38;5;124m'\u001B[39m,\u001B[38;5;124m'\u001B[39m\u001B[38;5;124mSabado\u001B[39m\u001B[38;5;124m'\u001B[39m,\u001B[38;5;124m'\u001B[39m\u001B[38;5;124mDomingo\u001B[39m\u001B[38;5;124m'\u001B[39m]\n\u001B[0;32m      4\u001B[0m )\u001B[38;5;241m.\u001B[39mreset_index()\n",
      "\u001B[1;31mNameError\u001B[0m: name 'df' is not defined"
     ]
    }
   ],
   "execution_count": 10
  },
  {
   "metadata": {
    "ExecuteTime": {
     "end_time": "2025-02-03T15:51:07.566887Z",
     "start_time": "2025-02-03T15:51:07.542994Z"
    }
   },
   "cell_type": "code",
   "source": "print(ventas_por_categoria)",
   "id": "1ae210500b60adbe",
   "outputs": [
    {
     "ename": "NameError",
     "evalue": "name 'ventas_por_categoria' is not defined",
     "output_type": "error",
     "traceback": [
      "\u001B[1;31m---------------------------------------------------------------------------\u001B[0m",
      "\u001B[1;31mNameError\u001B[0m                                 Traceback (most recent call last)",
      "Cell \u001B[1;32mIn[11], line 1\u001B[0m\n\u001B[1;32m----> 1\u001B[0m \u001B[38;5;28mprint\u001B[39m(ventas_por_categoria)\n",
      "\u001B[1;31mNameError\u001B[0m: name 'ventas_por_categoria' is not defined"
     ]
    }
   ],
   "execution_count": 11
  },
  {
   "cell_type": "code",
   "execution_count": null,
   "id": "e9c91bb763793af1",
   "metadata": {},
   "outputs": [],
   "source": []
  }
 ],
 "metadata": {
  "kernelspec": {
   "display_name": "Python [conda env:base] *",
   "language": "python",
   "name": "conda-base-py"
  },
  "language_info": {
   "codemirror_mode": {
    "name": "ipython",
    "version": 3
   },
   "file_extension": ".py",
   "mimetype": "text/x-python",
   "name": "python",
   "nbconvert_exporter": "python",
   "pygments_lexer": "ipython3",
   "version": "3.12.7"
  }
 },
 "nbformat": 4,
 "nbformat_minor": 5
}
