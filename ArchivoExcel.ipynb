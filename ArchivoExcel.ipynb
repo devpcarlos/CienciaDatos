{
 "cells": [
  {
   "cell_type": "code",
   "id": "8eb976e9-912b-4a44-a758-ec5d3d39d60d",
   "metadata": {
    "ExecuteTime": {
     "end_time": "2025-02-18T02:52:54.614826Z",
     "start_time": "2025-02-18T02:52:54.607232Z"
    }
   },
   "source": [
    "import pandas as pd"
   ],
   "outputs": [],
   "execution_count": 1
  },
  {
   "metadata": {
    "ExecuteTime": {
     "end_time": "2025-02-18T02:53:54.177243Z",
     "start_time": "2025-02-18T02:53:54.141291Z"
    }
   },
   "cell_type": "code",
   "source": "convertion = pd.read_excel('estudiantes.xlsx')",
   "id": "98e9ddf1-72ca-48d7-a391-54a4c2893273",
   "outputs": [],
   "execution_count": 4
  },
  {
   "cell_type": "code",
   "id": "b1d68d0e-4a40-4bb8-ad00-738e4bb95473",
   "metadata": {
    "ExecuteTime": {
     "end_time": "2025-02-18T02:52:55.907183Z",
     "start_time": "2025-02-18T02:52:55.868658Z"
    }
   },
   "source": [
    "convertion.to_csv('estudiantes.csv', index=None, header=True)"
   ],
   "outputs": [],
   "execution_count": 3
  },
  {
   "cell_type": "code",
   "execution_count": null,
   "id": "560b9923-2e24-4d00-b9cd-cc340d494fd6",
   "metadata": {},
   "outputs": [],
   "source": []
  }
 ],
 "metadata": {
  "kernelspec": {
   "display_name": "Python [conda env:base] *",
   "language": "python",
   "name": "conda-base-py"
  },
  "language_info": {
   "codemirror_mode": {
    "name": "ipython",
    "version": 3
   },
   "file_extension": ".py",
   "mimetype": "text/x-python",
   "name": "python",
   "nbconvert_exporter": "python",
   "pygments_lexer": "ipython3",
   "version": "3.12.7"
  }
 },
 "nbformat": 4,
 "nbformat_minor": 5
}
