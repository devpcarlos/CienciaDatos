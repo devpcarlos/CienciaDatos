{
 "cells": [
  {
   "cell_type": "code",
   "id": "af35991d-798c-4a61-884d-43a2bfe1c831",
   "metadata": {
    "ExecuteTime": {
     "end_time": "2025-02-18T23:12:24.483482Z",
     "start_time": "2025-02-18T23:12:23.049013Z"
    }
   },
   "source": "import pandas as pd",
   "outputs": [],
   "execution_count": 1
  },
  {
   "metadata": {
    "ExecuteTime": {
     "end_time": "2025-02-18T23:12:57.508012Z",
     "start_time": "2025-02-18T23:12:57.486585Z"
    }
   },
   "cell_type": "code",
   "source": [
    "empleados = pd.DataFrame({\n",
    "    'EmpID': [1, 2, 3, 4],\n",
    "    'DeptoID': [10, 20, 30, 40],\n",
    "    'Nombre': ['Carlos', 'Sofía', 'Pedro', 'Laura'],\n",
    "    'Puesto': ['Gerente', 'Analista', None, 'Desarrollador']\n",
    "})\n",
    "empleados"
   ],
   "id": "fd43ad27f55b1b4d",
   "outputs": [
    {
     "data": {
      "text/plain": [
       "   EmpID  DeptoID  Nombre         Puesto\n",
       "0      1       10  Carlos        Gerente\n",
       "1      2       20   Sofía       Analista\n",
       "2      3       30   Pedro           None\n",
       "3      4       40   Laura  Desarrollador"
      ],
      "text/html": [
       "<div>\n",
       "<style scoped>\n",
       "    .dataframe tbody tr th:only-of-type {\n",
       "        vertical-align: middle;\n",
       "    }\n",
       "\n",
       "    .dataframe tbody tr th {\n",
       "        vertical-align: top;\n",
       "    }\n",
       "\n",
       "    .dataframe thead th {\n",
       "        text-align: right;\n",
       "    }\n",
       "</style>\n",
       "<table border=\"1\" class=\"dataframe\">\n",
       "  <thead>\n",
       "    <tr style=\"text-align: right;\">\n",
       "      <th></th>\n",
       "      <th>EmpID</th>\n",
       "      <th>DeptoID</th>\n",
       "      <th>Nombre</th>\n",
       "      <th>Puesto</th>\n",
       "    </tr>\n",
       "  </thead>\n",
       "  <tbody>\n",
       "    <tr>\n",
       "      <th>0</th>\n",
       "      <td>1</td>\n",
       "      <td>10</td>\n",
       "      <td>Carlos</td>\n",
       "      <td>Gerente</td>\n",
       "    </tr>\n",
       "    <tr>\n",
       "      <th>1</th>\n",
       "      <td>2</td>\n",
       "      <td>20</td>\n",
       "      <td>Sofía</td>\n",
       "      <td>Analista</td>\n",
       "    </tr>\n",
       "    <tr>\n",
       "      <th>2</th>\n",
       "      <td>3</td>\n",
       "      <td>30</td>\n",
       "      <td>Pedro</td>\n",
       "      <td>None</td>\n",
       "    </tr>\n",
       "    <tr>\n",
       "      <th>3</th>\n",
       "      <td>4</td>\n",
       "      <td>40</td>\n",
       "      <td>Laura</td>\n",
       "      <td>Desarrollador</td>\n",
       "    </tr>\n",
       "  </tbody>\n",
       "</table>\n",
       "</div>"
      ]
     },
     "execution_count": 2,
     "metadata": {},
     "output_type": "execute_result"
    }
   ],
   "execution_count": 2
  },
  {
   "metadata": {
    "ExecuteTime": {
     "end_time": "2025-02-18T23:13:11.933075Z",
     "start_time": "2025-02-18T23:13:11.921105Z"
    }
   },
   "cell_type": "code",
   "source": [
    "departamentos = pd.DataFrame({\n",
    "    'DeptoID': [10, 20, 30, 50],\n",
    "    'UbicacionID': [100, 200, 300, 500],\n",
    "    'NombreDepto': ['Ventas', 'TI', 'RH', 'Marketing']\n",
    "})\n",
    "departamentos"
   ],
   "id": "667ef8d40e8b4069",
   "outputs": [
    {
     "data": {
      "text/plain": [
       "   DeptoID  UbicacionID NombreDepto\n",
       "0       10          100      Ventas\n",
       "1       20          200          TI\n",
       "2       30          300          RH\n",
       "3       50          500   Marketing"
      ],
      "text/html": [
       "<div>\n",
       "<style scoped>\n",
       "    .dataframe tbody tr th:only-of-type {\n",
       "        vertical-align: middle;\n",
       "    }\n",
       "\n",
       "    .dataframe tbody tr th {\n",
       "        vertical-align: top;\n",
       "    }\n",
       "\n",
       "    .dataframe thead th {\n",
       "        text-align: right;\n",
       "    }\n",
       "</style>\n",
       "<table border=\"1\" class=\"dataframe\">\n",
       "  <thead>\n",
       "    <tr style=\"text-align: right;\">\n",
       "      <th></th>\n",
       "      <th>DeptoID</th>\n",
       "      <th>UbicacionID</th>\n",
       "      <th>NombreDepto</th>\n",
       "    </tr>\n",
       "  </thead>\n",
       "  <tbody>\n",
       "    <tr>\n",
       "      <th>0</th>\n",
       "      <td>10</td>\n",
       "      <td>100</td>\n",
       "      <td>Ventas</td>\n",
       "    </tr>\n",
       "    <tr>\n",
       "      <th>1</th>\n",
       "      <td>20</td>\n",
       "      <td>200</td>\n",
       "      <td>TI</td>\n",
       "    </tr>\n",
       "    <tr>\n",
       "      <th>2</th>\n",
       "      <td>30</td>\n",
       "      <td>300</td>\n",
       "      <td>RH</td>\n",
       "    </tr>\n",
       "    <tr>\n",
       "      <th>3</th>\n",
       "      <td>50</td>\n",
       "      <td>500</td>\n",
       "      <td>Marketing</td>\n",
       "    </tr>\n",
       "  </tbody>\n",
       "</table>\n",
       "</div>"
      ]
     },
     "execution_count": 4,
     "metadata": {},
     "output_type": "execute_result"
    }
   ],
   "execution_count": 4
  },
  {
   "metadata": {
    "ExecuteTime": {
     "end_time": "2025-02-19T00:08:58.914296Z",
     "start_time": "2025-02-19T00:08:58.885946Z"
    }
   },
   "cell_type": "code",
   "source": [
    "combinado = pd.merge(\n",
    "    empleados.rename(columns={'DeptoID': 'DepID'}),\n",
    "    departamentos.rename(columns={'DeptoID': 'DepID'}),\n",
    "    on='DepID',\n",
    "    how='left',\n",
    "    suffixes=('_Empleado', '_Departamento')\n",
    ")\n",
    "combinado"
   ],
   "id": "4d05dcf911a3eb19",
   "outputs": [
    {
     "data": {
      "text/plain": [
       "   EmpID  DepID  Nombre         Puesto  UbicacionID NombreDepto\n",
       "0      1     10  Carlos        Gerente        100.0      Ventas\n",
       "1      2     20   Sofía       Analista        200.0          TI\n",
       "2      3     30   Pedro           None        300.0          RH\n",
       "3      4     40   Laura  Desarrollador          NaN         NaN"
      ],
      "text/html": [
       "<div>\n",
       "<style scoped>\n",
       "    .dataframe tbody tr th:only-of-type {\n",
       "        vertical-align: middle;\n",
       "    }\n",
       "\n",
       "    .dataframe tbody tr th {\n",
       "        vertical-align: top;\n",
       "    }\n",
       "\n",
       "    .dataframe thead th {\n",
       "        text-align: right;\n",
       "    }\n",
       "</style>\n",
       "<table border=\"1\" class=\"dataframe\">\n",
       "  <thead>\n",
       "    <tr style=\"text-align: right;\">\n",
       "      <th></th>\n",
       "      <th>EmpID</th>\n",
       "      <th>DepID</th>\n",
       "      <th>Nombre</th>\n",
       "      <th>Puesto</th>\n",
       "      <th>UbicacionID</th>\n",
       "      <th>NombreDepto</th>\n",
       "    </tr>\n",
       "  </thead>\n",
       "  <tbody>\n",
       "    <tr>\n",
       "      <th>0</th>\n",
       "      <td>1</td>\n",
       "      <td>10</td>\n",
       "      <td>Carlos</td>\n",
       "      <td>Gerente</td>\n",
       "      <td>100.0</td>\n",
       "      <td>Ventas</td>\n",
       "    </tr>\n",
       "    <tr>\n",
       "      <th>1</th>\n",
       "      <td>2</td>\n",
       "      <td>20</td>\n",
       "      <td>Sofía</td>\n",
       "      <td>Analista</td>\n",
       "      <td>200.0</td>\n",
       "      <td>TI</td>\n",
       "    </tr>\n",
       "    <tr>\n",
       "      <th>2</th>\n",
       "      <td>3</td>\n",
       "      <td>30</td>\n",
       "      <td>Pedro</td>\n",
       "      <td>None</td>\n",
       "      <td>300.0</td>\n",
       "      <td>RH</td>\n",
       "    </tr>\n",
       "    <tr>\n",
       "      <th>3</th>\n",
       "      <td>4</td>\n",
       "      <td>40</td>\n",
       "      <td>Laura</td>\n",
       "      <td>Desarrollador</td>\n",
       "      <td>NaN</td>\n",
       "      <td>NaN</td>\n",
       "    </tr>\n",
       "  </tbody>\n",
       "</table>\n",
       "</div>"
      ]
     },
     "execution_count": 10,
     "metadata": {},
     "output_type": "execute_result"
    }
   ],
   "execution_count": 10
  },
  {
   "metadata": {},
   "cell_type": "code",
   "outputs": [],
   "execution_count": null,
   "source": "",
   "id": "45c332842f8c52f0"
  }
 ],
 "metadata": {
  "kernelspec": {
   "display_name": "Python [conda env:base] *",
   "language": "python",
   "name": "conda-base-py"
  },
  "language_info": {
   "codemirror_mode": {
    "name": "ipython",
    "version": 3
   },
   "file_extension": ".py",
   "mimetype": "text/x-python",
   "name": "python",
   "nbconvert_exporter": "python",
   "pygments_lexer": "ipython3",
   "version": "3.12.7"
  }
 },
 "nbformat": 4,
 "nbformat_minor": 5
}
