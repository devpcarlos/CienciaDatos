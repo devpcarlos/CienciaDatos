{
 "cells": [
  {
   "cell_type": "code",
   "execution_count": 1,
   "id": "b2bd789b-d5ea-4a2a-bf6d-1716c38daafb",
   "metadata": {},
   "outputs": [],
   "source": [
    "import numpy as np"
   ]
  },
  {
   "cell_type": "code",
   "execution_count": 3,
   "id": "4797cbea-51bf-471d-ba6c-95e6ea2df6b9",
   "metadata": {},
   "outputs": [],
   "source": [
    "import pandas as pd"
   ]
  },
  {
   "cell_type": "code",
   "execution_count": 5,
   "id": "b10edcdb-5e28-4d56-ad25-afa4d743481c",
   "metadata": {},
   "outputs": [],
   "source": [
    "np.random.seed(42)"
   ]
  },
  {
   "cell_type": "code",
   "execution_count": 7,
   "id": "6732a232-5a15-4974-87f3-cb9f6cbd1acd",
   "metadata": {},
   "outputs": [],
   "source": [
    "fechas = pd.date_range(start=\"2023-01-01\", end=\"2023-12-31\", freq=\"D\")"
   ]
  },
  {
   "cell_type": "code",
   "execution_count": 11,
   "id": "2695a7c8-15b6-43a1-8dca-ab082627505b",
   "metadata": {},
   "outputs": [],
   "source": [
    "productos = np.random.choice([\"Laptop\",\"Telefono\",\"Tablet\"], size=len(fechas))"
   ]
  },
  {
   "cell_type": "code",
   "execution_count": 13,
   "id": "f2eb70ed-f207-4f9a-97f4-4a0b5a3a6de5",
   "metadata": {},
   "outputs": [],
   "source": [
    "ventas = np.random.randint(50,500, size=len(fechas))"
   ]
  },
  {
   "cell_type": "code",
   "execution_count": 19,
   "id": "aea7ebc8-b91a-450e-a096-9f9bd06d3314",
   "metadata": {},
   "outputs": [],
   "source": [
    "dataf = pd.DataFrame({\"Fecha\": fechas,\n",
    "                  \"Producto\": productos,\n",
    "                  \"Ventas\": ventas})"
   ]
  },
  {
   "cell_type": "code",
   "execution_count": 21,
   "id": "96f78714-fb12-42c8-88d3-5e63d3931c69",
   "metadata": {},
   "outputs": [],
   "source": [
    "dataf[\"Mes\"] = dataf[\"Fecha\"].dt.month_name()"
   ]
  },
  {
   "cell_type": "code",
   "execution_count": 23,
   "id": "bd89d8b1-3559-49a3-ad4b-8794ada05b46",
   "metadata": {},
   "outputs": [],
   "source": [
    "ventas_por_producto = dataf.groupby(\"Producto\")[\"Ventas\"].sum().reset_index()"
   ]
  },
  {
   "cell_type": "code",
   "execution_count": 25,
   "id": "9cd1e0f1-3d9a-4ab8-8a3d-be5722ad4057",
   "metadata": {},
   "outputs": [],
   "source": [
    "dataf.to_csv(\"ventas_2023.csv\", index= False)"
   ]
  },
  {
   "cell_type": "code",
   "execution_count": 27,
   "id": "bc95cda7-faac-4676-8c5d-c91ac383fc25",
   "metadata": {},
   "outputs": [],
   "source": [
    "ventas_por_producto.to_csv(\"ventas_por_producto.csv\", index=False)"
   ]
  },
  {
   "cell_type": "code",
   "execution_count": null,
   "id": "42dbe746-04e7-41c6-a1dd-315418f6beb4",
   "metadata": {},
   "outputs": [],
   "source": []
  }
 ],
 "metadata": {
  "kernelspec": {
   "display_name": "Python [conda env:base] *",
   "language": "python",
   "name": "conda-base-py"
  },
  "language_info": {
   "codemirror_mode": {
    "name": "ipython",
    "version": 3
   },
   "file_extension": ".py",
   "mimetype": "text/x-python",
   "name": "python",
   "nbconvert_exporter": "python",
   "pygments_lexer": "ipython3",
   "version": "3.12.7"
  }
 },
 "nbformat": 4,
 "nbformat_minor": 5
}
