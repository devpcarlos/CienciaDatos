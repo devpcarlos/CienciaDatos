{
 "cells": [
  {
   "cell_type": "code",
   "id": "initial_id",
   "metadata": {
    "collapsed": true,
    "jupyter": {
     "is_executing": true
    }
   },
   "source": [
    "import random\n",
    "\n",
    "import pandas as pd\n",
    "import numpy as np\n",
    "import matplotlib.pyplot as plt\n",
    "import seaborn as sns"
   ],
   "outputs": [],
   "execution_count": null
  },
  {
   "metadata": {
    "jupyter": {
     "is_executing": true
    }
   },
   "cell_type": "code",
   "source": [
    "#Configurar semilla para reproducibilidad\n",
    "np.random.seed(42)"
   ],
   "id": "f0b15e3f179484c4",
   "outputs": [],
   "execution_count": null
  },
  {
   "metadata": {
    "jupyter": {
     "is_executing": true
    }
   },
   "cell_type": "code",
   "source": [
    "#Generar fechas de 2023 (diarias)\n",
    "fechas = pd.date_range(start='2023-01-01', end='2023-12-31', freq='D')"
   ],
   "id": "19013d1430b3050c",
   "outputs": [],
   "execution_count": null
  },
  {
   "metadata": {
    "jupyter": {
     "is_executing": true
    }
   },
   "cell_type": "code",
   "source": [
    "#generar datos aleatorios\n",
    "data= {\n",
    "    'Fecha' : fechas,\n",
    "    'Categoria' : np.random.choice(['Electronicos','Ropa','Hogar'], size=len(fechas)),\n",
    "    'Precio_Unitario': np.random.uniform(10, 500, size=len(fechas)),\n",
    "    'Cantidad' : np.random.randint(1, 20, size=len(fechas))\n",
    "}"
   ],
   "id": "50903405abaa0f38",
   "outputs": [],
   "execution_count": null
  },
  {
   "metadata": {
    "jupyter": {
     "is_executing": true
    }
   },
   "cell_type": "code",
   "source": [
    "#Crear DataFrame\n",
    "df = pd.DataFrame(data)"
   ],
   "id": "905e5da909334948",
   "outputs": [],
   "execution_count": null
  },
  {
   "metadata": {
    "jupyter": {
     "is_executing": true
    }
   },
   "cell_type": "code",
   "source": [
    "#Calcular venta diaria\n",
    "df['Venta_totoal']= df['Precio_Unitario'] * df['Cantidad']"
   ],
   "id": "5b648aa074549165",
   "outputs": [],
   "execution_count": null
  },
  {
   "metadata": {
    "jupyter": {
     "is_executing": true
    }
   },
   "cell_type": "code",
   "source": [
    "#Extraer mes y dia de la semana\n",
    "df['Mes'] = df['Fecha'].dt.month_name()\n",
    "df['Dia_Semana'] = df['Fecha'].dt.day_name()"
   ],
   "id": "d878427a04088d38",
   "outputs": [],
   "execution_count": null
  },
  {
   "metadata": {
    "jupyter": {
     "is_executing": true
    }
   },
   "cell_type": "code",
   "source": "print(df.head())",
   "id": "111087c810e1fd8c",
   "outputs": [],
   "execution_count": null
  },
  {
   "metadata": {},
   "cell_type": "code",
   "outputs": [],
   "execution_count": null,
   "source": "",
   "id": "3c54fc792a506d53"
  }
 ],
 "metadata": {
  "kernelspec": {
   "display_name": "Python 3",
   "language": "python",
   "name": "python3"
  },
  "language_info": {
   "codemirror_mode": {
    "name": "ipython",
    "version": 2
   },
   "file_extension": ".py",
   "mimetype": "text/x-python",
   "name": "python",
   "nbconvert_exporter": "python",
   "pygments_lexer": "ipython2",
   "version": "2.7.6"
  }
 },
 "nbformat": 4,
 "nbformat_minor": 5
}
