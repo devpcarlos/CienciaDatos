{
 "cells": [
  {
   "cell_type": "code",
   "execution_count": 1,
   "id": "709799db-73cd-48bf-aa03-7b36e94e6e5e",
   "metadata": {},
   "outputs": [],
   "source": [
    "import pandas as pd"
   ]
  },
  {
   "cell_type": "code",
   "execution_count": 17,
   "id": "7ec7f68e-cf5f-4e63-8b1b-c675ce5362f6",
   "metadata": {},
   "outputs": [],
   "source": [
    "df1 = pd.DataFrame({'AUTOS':['Nissan','Ford','Audi'],\n",
    "                    'COLOR':['Blanco','Azul','Rojo']}).set_index('AUTOS')"
   ]
  },
  {
   "cell_type": "code",
   "execution_count": 19,
   "id": "a0c06e70-3301-47cc-b793-1a912cd46232",
   "metadata": {},
   "outputs": [],
   "source": [
    "df2 = pd.DataFrame({'AUTOS':['Nissan','Ford','Audi'],\n",
    "                    'MODELO':[2018,2020,2022]}).set_index('AUTOS')"
   ]
  },
  {
   "cell_type": "code",
   "execution_count": 21,
   "id": "34095789-0ef5-424c-9852-311768faf426",
   "metadata": {},
   "outputs": [
    {
     "data": {
      "text/html": [
       "<div>\n",
       "<style scoped>\n",
       "    .dataframe tbody tr th:only-of-type {\n",
       "        vertical-align: middle;\n",
       "    }\n",
       "\n",
       "    .dataframe tbody tr th {\n",
       "        vertical-align: top;\n",
       "    }\n",
       "\n",
       "    .dataframe thead th {\n",
       "        text-align: right;\n",
       "    }\n",
       "</style>\n",
       "<table border=\"1\" class=\"dataframe\">\n",
       "  <thead>\n",
       "    <tr style=\"text-align: right;\">\n",
       "      <th></th>\n",
       "      <th>COLOR</th>\n",
       "    </tr>\n",
       "    <tr>\n",
       "      <th>AUTOS</th>\n",
       "      <th></th>\n",
       "    </tr>\n",
       "  </thead>\n",
       "  <tbody>\n",
       "    <tr>\n",
       "      <th>Nissan</th>\n",
       "      <td>Blanco</td>\n",
       "    </tr>\n",
       "    <tr>\n",
       "      <th>Ford</th>\n",
       "      <td>Azul</td>\n",
       "    </tr>\n",
       "    <tr>\n",
       "      <th>Audi</th>\n",
       "      <td>Rojo</td>\n",
       "    </tr>\n",
       "  </tbody>\n",
       "</table>\n",
       "</div>"
      ],
      "text/plain": [
       "         COLOR\n",
       "AUTOS         \n",
       "Nissan  Blanco\n",
       "Ford      Azul\n",
       "Audi      Rojo"
      ]
     },
     "execution_count": 21,
     "metadata": {},
     "output_type": "execute_result"
    }
   ],
   "source": [
    "df1"
   ]
  },
  {
   "cell_type": "code",
   "execution_count": 23,
   "id": "a4c94102-f573-4bed-92b8-3d04bad644a8",
   "metadata": {},
   "outputs": [
    {
     "data": {
      "text/html": [
       "<div>\n",
       "<style scoped>\n",
       "    .dataframe tbody tr th:only-of-type {\n",
       "        vertical-align: middle;\n",
       "    }\n",
       "\n",
       "    .dataframe tbody tr th {\n",
       "        vertical-align: top;\n",
       "    }\n",
       "\n",
       "    .dataframe thead th {\n",
       "        text-align: right;\n",
       "    }\n",
       "</style>\n",
       "<table border=\"1\" class=\"dataframe\">\n",
       "  <thead>\n",
       "    <tr style=\"text-align: right;\">\n",
       "      <th></th>\n",
       "      <th>MODELO</th>\n",
       "    </tr>\n",
       "    <tr>\n",
       "      <th>AUTOS</th>\n",
       "      <th></th>\n",
       "    </tr>\n",
       "  </thead>\n",
       "  <tbody>\n",
       "    <tr>\n",
       "      <th>Nissan</th>\n",
       "      <td>2018</td>\n",
       "    </tr>\n",
       "    <tr>\n",
       "      <th>Ford</th>\n",
       "      <td>2020</td>\n",
       "    </tr>\n",
       "    <tr>\n",
       "      <th>Audi</th>\n",
       "      <td>2022</td>\n",
       "    </tr>\n",
       "  </tbody>\n",
       "</table>\n",
       "</div>"
      ],
      "text/plain": [
       "        MODELO\n",
       "AUTOS         \n",
       "Nissan    2018\n",
       "Ford      2020\n",
       "Audi      2022"
      ]
     },
     "execution_count": 23,
     "metadata": {},
     "output_type": "execute_result"
    }
   ],
   "source": [
    "df2"
   ]
  },
  {
   "cell_type": "code",
   "execution_count": null,
   "id": "fac9c98f-7c12-4579-8217-f2ebb0e59dd0",
   "metadata": {},
   "outputs": [],
   "source": [
    "df = pd.concat([df1,df2]), axis=1"
   ]
  }
 ],
 "metadata": {
  "kernelspec": {
   "display_name": "Python [conda env:base] *",
   "language": "python",
   "name": "conda-base-py"
  },
  "language_info": {
   "codemirror_mode": {
    "name": "ipython",
    "version": 3
   },
   "file_extension": ".py",
   "mimetype": "text/x-python",
   "name": "python",
   "nbconvert_exporter": "python",
   "pygments_lexer": "ipython3",
   "version": "3.12.7"
  }
 },
 "nbformat": 4,
 "nbformat_minor": 5
}
