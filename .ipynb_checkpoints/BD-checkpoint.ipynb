{
 "cells": [
  {
   "cell_type": "code",
   "execution_count": 4,
   "id": "2bf98180-7284-4a71-8d52-2c82b53d5b02",
   "metadata": {},
   "outputs": [],
   "source": [
    "from sqlalchemy import create_engine\n",
    "import pandas as pd\n",
    "import matplotlib.pyplot as plt\n",
    "import seaborn as sns\n"
   ]
  },
  {
   "cell_type": "code",
   "execution_count": 5,
   "id": "723d54ba-3a26-4fed-8ace-dde3ec0095d1",
   "metadata": {},
   "outputs": [],
   "source": [
    "server='DESKTOP-T005PC0'\n",
    "database='ventasBD'\n",
    "username='sa'\n",
    "password='Sql*03*'\n",
    "driver='ODBC Driver 17 for SQL Server'"
   ]
  },
  {
   "cell_type": "code",
   "execution_count": 6,
   "id": "e390f1f3-9068-4aec-894f-fa88c2b13421",
   "metadata": {},
   "outputs": [],
   "source": [
    "# Formato de cadena de conexión para SQL Server\n",
    "connection_string = (\n",
    "    f\"mssql+pyodbc://{username}:{password}@{server}/{database}?driver={driver.replace(' ','+')}\"\n",
    ")"
   ]
  },
  {
   "cell_type": "code",
   "execution_count": 7,
   "id": "88bb8248-1a01-4c61-b193-52606d76312a",
   "metadata": {},
   "outputs": [],
   "source": [
    "# Crear el motor de SQLAlchemy\n",
    "engine = create_engine(connection_string)"
   ]
  },
  {
   "cell_type": "code",
   "execution_count": 8,
   "id": "9b87c04d-978e-40aa-829e-de460e7b74e3",
   "metadata": {},
   "outputs": [
    {
     "name": "stdout",
     "output_type": "stream",
     "text": [
      "Datos cargados correctamente:\n",
      "   ventaID       fecha  producto     categoria  cantidad   precio     ciudad\n",
      "0        1  2023-01-05    Laptop  Electrónicos         2  1200.00     Madrid\n",
      "1        2  2023-01-05    Camisa          Ropa         5    25.99  Barcelona\n",
      "2        3  2023-02-10  Teléfono  Electrónicos         3   800.50   Valencia\n",
      "3        4  2023-02-15      Sofá         Hogar         1  1500.75     Madrid\n",
      "4        5  2023-03-20   Zapatos          Ropa         4    60.00    Sevilla\n"
     ]
    }
   ],
   "source": [
    "# Cargar datos desde SQL Server\n",
    "try:\n",
    "    query = \"SELECT * FROM Ventas\"\n",
    "    df = pd.read_sql(query, engine)\n",
    "    print(\"Datos cargados correctamente:\")\n",
    "    print(df.head())\n",
    "    \n",
    "except Exception as e:\n",
    "    print(f\"Error al cargar datos: {e}\")\n",
    "\n",
    "finally:\n",
    "    engine.dispose()  # Cerrar la conexión"
   ]
  },
  {
   "cell_type": "code",
   "execution_count": 13,
   "id": "8df924ab-0237-4834-817b-c38aee716345",
   "metadata": {},
   "outputs": [],
   "source": [
    "# Calcular venta total por registro\n",
    "df['Venta_total'] = df['cantidad'] * df['precio']"
   ]
  },
  {
   "cell_type": "code",
   "execution_count": 16,
   "id": "be23d281-fe61-485d-aac9-c56afb9e0f12",
   "metadata": {},
   "outputs": [],
   "source": [
    "# Ventas totales por categoría\n",
    "ventas_por_categoria = df.groupby('categoria')['Venta_total'].sum().reset_index()"
   ]
  },
  {
   "cell_type": "code",
   "execution_count": 20,
   "id": "acfc63c6-b95d-4ca5-bf1a-712cf297b689",
   "metadata": {},
   "outputs": [],
   "source": [
    "# Ventas mensuales\n",
    "df['Mes'] = pd.to_datetime(df['fecha']).dt.month_name()\n",
    "ventas_mensuales= df.groupby('Mes')['Venta_total'].sum().reset_index()"
   ]
  },
  {
   "cell_type": "code",
   "execution_count": 22,
   "id": "14a67e2b-e745-4034-9e3c-824ecf7194fc",
   "metadata": {},
   "outputs": [],
   "source": [
    "# Ventas por ciudad\n",
    "ventas_por_ciudad = df.groupby('ciudad')['Venta_total'].sum().reset_index()"
   ]
  },
  {
   "cell_type": "code",
   "execution_count": null,
   "id": "4c0a1aa7-775c-4295-9e08-201dc33d7dcb",
   "metadata": {},
   "outputs": [],
   "source": [
    "\n",
    "# --- Visualización con Matplotlib y Seaborn ---\n"
   ]
  }
 ],
 "metadata": {
  "kernelspec": {
   "display_name": "Python [conda env:base] *",
   "language": "python",
   "name": "conda-base-py"
  },
  "language_info": {
   "codemirror_mode": {
    "name": "ipython",
    "version": 3
   },
   "file_extension": ".py",
   "mimetype": "text/x-python",
   "name": "python",
   "nbconvert_exporter": "python",
   "pygments_lexer": "ipython3",
   "version": "3.12.7"
  }
 },
 "nbformat": 4,
 "nbformat_minor": 5
}
