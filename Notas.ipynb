{
 "cells": [
  {
   "cell_type": "code",
   "execution_count": 1,
   "id": "1d9d60e6-1fa2-4e00-8498-84e318b3ba58",
   "metadata": {},
   "outputs": [],
   "source": [
    "import numpy as np"
   ]
  },
  {
   "cell_type": "code",
   "execution_count": 3,
   "id": "649ea95b-4322-4396-a797-a0ddf0008203",
   "metadata": {},
   "outputs": [],
   "source": [
    "import pandas as pd"
   ]
  },
  {
   "cell_type": "code",
   "execution_count": 5,
   "id": "a6938771-c14b-475f-8add-ffcaf654df04",
   "metadata": {},
   "outputs": [],
   "source": [
    "np.random.seed(123)"
   ]
  },
  {
   "cell_type": "code",
   "execution_count": 7,
   "id": "587293fa-2ef2-46ac-842d-7f48ecb46f1f",
   "metadata": {},
   "outputs": [],
   "source": [
    "num_estudiantes = 100"
   ]
  },
  {
   "cell_type": "code",
   "execution_count": 9,
   "id": "f8374ea7-93c7-4384-8983-daced5e1e56a",
   "metadata": {},
   "outputs": [],
   "source": [
    "estudiantes_ids = np.arange(1,num_estudiantes + 1)"
   ]
  },
  {
   "cell_type": "code",
   "execution_count": 11,
   "id": "302d5287-f22d-40ef-a971-552327f91658",
   "metadata": {},
   "outputs": [],
   "source": [
    "nombres = np.random.choice([\"Ana\",\"Luis\",\"Maria\",\"Carlos\",\"Sofia\"], size=num_estudiantes)"
   ]
  },
  {
   "cell_type": "code",
   "execution_count": 13,
   "id": "f92e046e-cb4e-48e5-833d-3799cc27b433",
   "metadata": {},
   "outputs": [],
   "source": [
    "matematicas = np.random.randint(0, 100, size=num_estudiantes)"
   ]
  },
  {
   "cell_type": "code",
   "execution_count": 15,
   "id": "f2738c1b-3b2a-4f17-80e3-8a393b2fd2c1",
   "metadata": {},
   "outputs": [],
   "source": [
    "ciencias = np.random.randint(0, 100, size=num_estudiantes)"
   ]
  },
  {
   "cell_type": "code",
   "execution_count": 17,
   "id": "1770c743-72c2-4601-aa60-8077367c0431",
   "metadata": {},
   "outputs": [],
   "source": [
    "edades = np.random.randint(15, 20, size=num_estudiantes)"
   ]
  },
  {
   "cell_type": "code",
   "execution_count": 21,
   "id": "c249abbd-7b90-445a-a633-bda3074b0187",
   "metadata": {},
   "outputs": [],
   "source": [
    "genero = np.random.choice([\"Femenino\", \"Masculino\"],  size=num_estudiantes)"
   ]
  },
  {
   "cell_type": "code",
   "execution_count": 23,
   "id": "822abf7e-4617-42fb-b751-912aa1fe6500",
   "metadata": {},
   "outputs": [],
   "source": [
    "dataf_estudiantes = pd.DataFrame({\n",
    "    \"ID\" : estudiantes_ids,\n",
    "    \"Nombre\" : nombres,\n",
    "    \"Edad\" : edades,\n",
    "    \"Genero\" : genero,\n",
    "    \"Matematicas\" : matematicas,\n",
    "    \"Ciencias\" : ciencias\n",
    "})"
   ]
  },
  {
   "cell_type": "code",
   "execution_count": 25,
   "id": "a16b165d-9f93-4ac6-8648-7b819253c0c0",
   "metadata": {},
   "outputs": [],
   "source": [
    "dataf_estudiantes[\"Promedio\"] = dataf_estudiantes[[\"Matematicas\", \"Ciencias\"]].mean(\n",
    "    axis = 1).round(2)"
   ]
  },
  {
   "cell_type": "code",
   "execution_count": 27,
   "id": "fb668b59-426f-48e9-8cf2-29215a88032c",
   "metadata": {},
   "outputs": [],
   "source": [
    "dataf_estudiantes[\"Rendimiento\"] = pd.cut(\n",
    "    dataf_estudiantes[\"Promedio\"],\n",
    "    bins=[0,50,80,100],\n",
    "    labels=[\"Bajo\",\"Regular\",\"Excelente\"]\n",
    ")"
   ]
  },
  {
   "cell_type": "code",
   "execution_count": 29,
   "id": "ca1a9860-4842-4f20-8cee-781472117c11",
   "metadata": {},
   "outputs": [],
   "source": [
    "dataf_estudiantes.to_csv(\"rendimiento_estudiantes.csv\", index=False)"
   ]
  },
  {
   "cell_type": "code",
   "execution_count": 33,
   "id": "25592c7e-4004-4bbd-b834-739a1b6133f3",
   "metadata": {},
   "outputs": [],
   "source": [
    "dataf_agrupado = dataf_estudiantes.groupby(\"Genero\")[[\"Matematicas\",\"Ciencias\"]].mean().reset_index()"
   ]
  },
  {
   "cell_type": "code",
   "execution_count": 35,
   "id": "785deb62-8214-48f3-905c-674d3b2e1510",
   "metadata": {},
   "outputs": [],
   "source": [
    "dataf_agrupado.to_csv(\"rendimiento_por_genero.csv\", index=False)"
   ]
  },
  {
   "cell_type": "code",
   "execution_count": null,
   "id": "e1ada206-3026-4783-9519-128441939b88",
   "metadata": {},
   "outputs": [],
   "source": []
  }
 ],
 "metadata": {
  "kernelspec": {
   "display_name": "Python [conda env:base] *",
   "language": "python",
   "name": "conda-base-py"
  },
  "language_info": {
   "codemirror_mode": {
    "name": "ipython",
    "version": 3
   },
   "file_extension": ".py",
   "mimetype": "text/x-python",
   "name": "python",
   "nbconvert_exporter": "python",
   "pygments_lexer": "ipython3",
   "version": "3.12.7"
  }
 },
 "nbformat": 4,
 "nbformat_minor": 5
}
