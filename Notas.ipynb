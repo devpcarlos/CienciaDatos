{
 "cells": [
  {
   "cell_type": "code",
   "id": "1d9d60e6-1fa2-4e00-8498-84e318b3ba58",
   "metadata": {
    "ExecuteTime": {
     "end_time": "2025-02-18T22:29:48.606630Z",
     "start_time": "2025-02-18T22:29:44.821366Z"
    }
   },
   "source": [
    "import numpy as np\n",
    "import pandas as pd"
   ],
   "outputs": [],
   "execution_count": 1
  },
  {
   "cell_type": "code",
   "id": "a6938771-c14b-475f-8add-ffcaf654df04",
   "metadata": {
    "ExecuteTime": {
     "end_time": "2025-02-18T22:29:48.668243Z",
     "start_time": "2025-02-18T22:29:48.653941Z"
    }
   },
   "source": [
    "np.random.seed(123)"
   ],
   "outputs": [],
   "execution_count": 2
  },
  {
   "cell_type": "code",
   "id": "587293fa-2ef2-46ac-842d-7f48ecb46f1f",
   "metadata": {
    "ExecuteTime": {
     "end_time": "2025-02-18T22:29:48.701845Z",
     "start_time": "2025-02-18T22:29:48.694914Z"
    }
   },
   "source": [
    "num_estudiantes = 100"
   ],
   "outputs": [],
   "execution_count": 3
  },
  {
   "cell_type": "code",
   "id": "f8374ea7-93c7-4384-8983-daced5e1e56a",
   "metadata": {
    "ExecuteTime": {
     "end_time": "2025-02-18T22:29:48.728476Z",
     "start_time": "2025-02-18T22:29:48.717584Z"
    }
   },
   "source": [
    "estudiantes_ids = np.arange(1,num_estudiantes + 1)"
   ],
   "outputs": [],
   "execution_count": 4
  },
  {
   "cell_type": "code",
   "id": "302d5287-f22d-40ef-a971-552327f91658",
   "metadata": {
    "ExecuteTime": {
     "end_time": "2025-02-18T22:29:48.753507Z",
     "start_time": "2025-02-18T22:29:48.742502Z"
    }
   },
   "source": [
    "nombres = np.random.choice([\"Ana\",\"Luis\",\"Maria\",\"Carlos\",\"Sofia\"], size=num_estudiantes)"
   ],
   "outputs": [],
   "execution_count": 5
  },
  {
   "cell_type": "code",
   "id": "f92e046e-cb4e-48e5-833d-3799cc27b433",
   "metadata": {
    "ExecuteTime": {
     "end_time": "2025-02-18T22:29:48.777042Z",
     "start_time": "2025-02-18T22:29:48.766209Z"
    }
   },
   "source": [
    "matematicas = np.random.randint(0, 100, size=num_estudiantes)"
   ],
   "outputs": [],
   "execution_count": 6
  },
  {
   "cell_type": "code",
   "id": "f2738c1b-3b2a-4f17-80e3-8a393b2fd2c1",
   "metadata": {
    "ExecuteTime": {
     "end_time": "2025-02-18T22:29:48.799007Z",
     "start_time": "2025-02-18T22:29:48.790738Z"
    }
   },
   "source": [
    "ciencias = np.random.randint(0, 100, size=num_estudiantes)"
   ],
   "outputs": [],
   "execution_count": 7
  },
  {
   "cell_type": "code",
   "id": "1770c743-72c2-4601-aa60-8077367c0431",
   "metadata": {
    "ExecuteTime": {
     "end_time": "2025-02-18T22:29:48.820071Z",
     "start_time": "2025-02-18T22:29:48.811999Z"
    }
   },
   "source": [
    "edades = np.random.randint(15, 20, size=num_estudiantes)"
   ],
   "outputs": [],
   "execution_count": 8
  },
  {
   "cell_type": "code",
   "id": "c249abbd-7b90-445a-a633-bda3074b0187",
   "metadata": {
    "ExecuteTime": {
     "end_time": "2025-02-18T22:29:49.282502Z",
     "start_time": "2025-02-18T22:29:49.274077Z"
    }
   },
   "source": [
    "genero = np.random.choice([\"Femenino\", \"Masculino\"],  size=num_estudiantes)"
   ],
   "outputs": [],
   "execution_count": 9
  },
  {
   "cell_type": "code",
   "id": "822abf7e-4617-42fb-b751-912aa1fe6500",
   "metadata": {
    "ExecuteTime": {
     "end_time": "2025-02-19T01:46:03.426223Z",
     "start_time": "2025-02-19T01:46:03.400441Z"
    }
   },
   "source": [
    "dataf_estudiantes = pd.DataFrame({\n",
    "    \"ID\" : estudiantes_ids,\n",
    "    \"Nombre\" : nombres,\n",
    "    \"Edad\" : edades,\n",
    "    \"Genero\" : genero,\n",
    "    \"Matematicas\" : matematicas,\n",
    "    \"Ciencias\" : ciencias\n",
    "})\n",
    "dataf_estudiantes"
   ],
   "outputs": [
    {
     "data": {
      "text/plain": [
       "     ID  Nombre  Edad     Genero  Matematicas  Ciencias\n",
       "0     1   Maria    18  Masculino           86        87\n",
       "1     2   Sofia    16  Masculino           46         4\n",
       "2     3   Maria    16  Masculino           15        69\n",
       "3     4    Luis    16  Masculino           59        56\n",
       "4     5  Carlos    18  Masculino           40        60\n",
       "..  ...     ...   ...        ...          ...       ...\n",
       "95   96   Sofia    18  Masculino           85        71\n",
       "96   97  Carlos    17  Masculino           59        39\n",
       "97   98    Luis    17   Femenino           48        87\n",
       "98   99     Ana    17  Masculino           56        83\n",
       "99  100     Ana    18   Femenino           87        78\n",
       "\n",
       "[100 rows x 6 columns]"
      ],
      "text/html": [
       "<div>\n",
       "<style scoped>\n",
       "    .dataframe tbody tr th:only-of-type {\n",
       "        vertical-align: middle;\n",
       "    }\n",
       "\n",
       "    .dataframe tbody tr th {\n",
       "        vertical-align: top;\n",
       "    }\n",
       "\n",
       "    .dataframe thead th {\n",
       "        text-align: right;\n",
       "    }\n",
       "</style>\n",
       "<table border=\"1\" class=\"dataframe\">\n",
       "  <thead>\n",
       "    <tr style=\"text-align: right;\">\n",
       "      <th></th>\n",
       "      <th>ID</th>\n",
       "      <th>Nombre</th>\n",
       "      <th>Edad</th>\n",
       "      <th>Genero</th>\n",
       "      <th>Matematicas</th>\n",
       "      <th>Ciencias</th>\n",
       "    </tr>\n",
       "  </thead>\n",
       "  <tbody>\n",
       "    <tr>\n",
       "      <th>0</th>\n",
       "      <td>1</td>\n",
       "      <td>Maria</td>\n",
       "      <td>18</td>\n",
       "      <td>Masculino</td>\n",
       "      <td>86</td>\n",
       "      <td>87</td>\n",
       "    </tr>\n",
       "    <tr>\n",
       "      <th>1</th>\n",
       "      <td>2</td>\n",
       "      <td>Sofia</td>\n",
       "      <td>16</td>\n",
       "      <td>Masculino</td>\n",
       "      <td>46</td>\n",
       "      <td>4</td>\n",
       "    </tr>\n",
       "    <tr>\n",
       "      <th>2</th>\n",
       "      <td>3</td>\n",
       "      <td>Maria</td>\n",
       "      <td>16</td>\n",
       "      <td>Masculino</td>\n",
       "      <td>15</td>\n",
       "      <td>69</td>\n",
       "    </tr>\n",
       "    <tr>\n",
       "      <th>3</th>\n",
       "      <td>4</td>\n",
       "      <td>Luis</td>\n",
       "      <td>16</td>\n",
       "      <td>Masculino</td>\n",
       "      <td>59</td>\n",
       "      <td>56</td>\n",
       "    </tr>\n",
       "    <tr>\n",
       "      <th>4</th>\n",
       "      <td>5</td>\n",
       "      <td>Carlos</td>\n",
       "      <td>18</td>\n",
       "      <td>Masculino</td>\n",
       "      <td>40</td>\n",
       "      <td>60</td>\n",
       "    </tr>\n",
       "    <tr>\n",
       "      <th>...</th>\n",
       "      <td>...</td>\n",
       "      <td>...</td>\n",
       "      <td>...</td>\n",
       "      <td>...</td>\n",
       "      <td>...</td>\n",
       "      <td>...</td>\n",
       "    </tr>\n",
       "    <tr>\n",
       "      <th>95</th>\n",
       "      <td>96</td>\n",
       "      <td>Sofia</td>\n",
       "      <td>18</td>\n",
       "      <td>Masculino</td>\n",
       "      <td>85</td>\n",
       "      <td>71</td>\n",
       "    </tr>\n",
       "    <tr>\n",
       "      <th>96</th>\n",
       "      <td>97</td>\n",
       "      <td>Carlos</td>\n",
       "      <td>17</td>\n",
       "      <td>Masculino</td>\n",
       "      <td>59</td>\n",
       "      <td>39</td>\n",
       "    </tr>\n",
       "    <tr>\n",
       "      <th>97</th>\n",
       "      <td>98</td>\n",
       "      <td>Luis</td>\n",
       "      <td>17</td>\n",
       "      <td>Femenino</td>\n",
       "      <td>48</td>\n",
       "      <td>87</td>\n",
       "    </tr>\n",
       "    <tr>\n",
       "      <th>98</th>\n",
       "      <td>99</td>\n",
       "      <td>Ana</td>\n",
       "      <td>17</td>\n",
       "      <td>Masculino</td>\n",
       "      <td>56</td>\n",
       "      <td>83</td>\n",
       "    </tr>\n",
       "    <tr>\n",
       "      <th>99</th>\n",
       "      <td>100</td>\n",
       "      <td>Ana</td>\n",
       "      <td>18</td>\n",
       "      <td>Femenino</td>\n",
       "      <td>87</td>\n",
       "      <td>78</td>\n",
       "    </tr>\n",
       "  </tbody>\n",
       "</table>\n",
       "<p>100 rows × 6 columns</p>\n",
       "</div>"
      ]
     },
     "execution_count": 20,
     "metadata": {},
     "output_type": "execute_result"
    }
   ],
   "execution_count": 20
  },
  {
   "cell_type": "code",
   "id": "a16b165d-9f93-4ac6-8648-7b819253c0c0",
   "metadata": {
    "ExecuteTime": {
     "end_time": "2025-02-19T01:46:08.049097Z",
     "start_time": "2025-02-19T01:46:08.019555Z"
    }
   },
   "source": [
    "dataf_estudiantes[\"Promedio\"] = dataf_estudiantes[[\"Matematicas\", \"Ciencias\"]].mean(\n",
    "    axis = 1).round(2)\n",
    "dataf_estudiantes[\"Promedio\"]"
   ],
   "outputs": [
    {
     "data": {
      "text/plain": [
       "0     86.5\n",
       "1     25.0\n",
       "2     42.0\n",
       "3     57.5\n",
       "4     50.0\n",
       "      ... \n",
       "95    78.0\n",
       "96    49.0\n",
       "97    67.5\n",
       "98    69.5\n",
       "99    82.5\n",
       "Name: Promedio, Length: 100, dtype: float64"
      ]
     },
     "execution_count": 21,
     "metadata": {},
     "output_type": "execute_result"
    }
   ],
   "execution_count": 21
  },
  {
   "cell_type": "code",
   "id": "fb668b59-426f-48e9-8cf2-29215a88032c",
   "metadata": {
    "ExecuteTime": {
     "end_time": "2025-02-18T22:30:24.821601Z",
     "start_time": "2025-02-18T22:30:24.794480Z"
    }
   },
   "source": [
    "dataf_estudiantes[\"Rendimiento\"] = pd.cut(\n",
    "    dataf_estudiantes[\"Promedio\"],\n",
    "    bins=[0,50,80,100],\n",
    "    labels=[\"Bajo\",\"Regular\",\"Excelente\"]\n",
    ")\n",
    "dataf_estudiantes[\"Rendimiento\"]"
   ],
   "outputs": [
    {
     "data": {
      "text/plain": [
       "0     Excelente\n",
       "1          Bajo\n",
       "2          Bajo\n",
       "3       Regular\n",
       "4          Bajo\n",
       "        ...    \n",
       "95      Regular\n",
       "96         Bajo\n",
       "97      Regular\n",
       "98      Regular\n",
       "99    Excelente\n",
       "Name: Rendimiento, Length: 100, dtype: category\n",
       "Categories (3, object): ['Bajo' < 'Regular' < 'Excelente']"
      ]
     },
     "execution_count": 16,
     "metadata": {},
     "output_type": "execute_result"
    }
   ],
   "execution_count": 16
  },
  {
   "cell_type": "code",
   "id": "ca1a9860-4842-4f20-8cee-781472117c11",
   "metadata": {
    "ExecuteTime": {
     "end_time": "2025-02-18T22:29:49.580148Z",
     "start_time": "2025-02-18T22:29:49.525814Z"
    }
   },
   "source": [
    "dataf_estudiantes.to_csv(\"rendimiento_estudiantes.csv\", index=False)"
   ],
   "outputs": [],
   "execution_count": 13
  },
  {
   "cell_type": "code",
   "id": "25592c7e-4004-4bbd-b834-739a1b6133f3",
   "metadata": {
    "ExecuteTime": {
     "end_time": "2025-02-18T22:29:49.627142Z",
     "start_time": "2025-02-18T22:29:49.601572Z"
    }
   },
   "source": [
    "dataf_agrupado = dataf_estudiantes.groupby(\"Genero\")[[\"Matematicas\",\"Ciencias\"]].mean().reset_index()"
   ],
   "outputs": [],
   "execution_count": 14
  },
  {
   "cell_type": "code",
   "id": "785deb62-8214-48f3-905c-674d3b2e1510",
   "metadata": {
    "ExecuteTime": {
     "end_time": "2025-02-18T22:29:49.669688Z",
     "start_time": "2025-02-18T22:29:49.654118Z"
    }
   },
   "source": [
    "dataf_agrupado.to_csv(\"rendimiento_por_genero.csv\", index=False)"
   ],
   "outputs": [],
   "execution_count": 15
  },
  {
   "cell_type": "code",
   "execution_count": null,
   "id": "e1ada206-3026-4783-9519-128441939b88",
   "metadata": {},
   "outputs": [],
   "source": []
  }
 ],
 "metadata": {
  "kernelspec": {
   "display_name": "Python [conda env:base] *",
   "language": "python",
   "name": "conda-base-py"
  },
  "language_info": {
   "codemirror_mode": {
    "name": "ipython",
    "version": 3
   },
   "file_extension": ".py",
   "mimetype": "text/x-python",
   "name": "python",
   "nbconvert_exporter": "python",
   "pygments_lexer": "ipython3",
   "version": "3.12.7"
  }
 },
 "nbformat": 4,
 "nbformat_minor": 5
}
