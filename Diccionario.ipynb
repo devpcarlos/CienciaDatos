{
 "cells": [
  {
   "cell_type": "code",
   "execution_count": 1,
   "id": "96da08df-2165-4d72-bae7-e1ef6cb97244",
   "metadata": {},
   "outputs": [],
   "source": [
    "import pandas as pd"
   ]
  },
  {
   "cell_type": "code",
   "execution_count": 3,
   "id": "46feb460-ca8b-4d9a-b646-67aa873af280",
   "metadata": {},
   "outputs": [],
   "source": [
    "data = {'NOMBRE' : ['maria','jose','david','ivan'], \n",
    "        'CARRERA': ['Auditoria','informatica','derecho','idiomas']}"
   ]
  },
  {
   "cell_type": "code",
   "execution_count": 5,
   "id": "76f8a5c6-d103-40c1-a863-68121a3f9a1c",
   "metadata": {},
   "outputs": [],
   "source": [
    "estudiantes = pd.DataFrame(data)"
   ]
  },
  {
   "cell_type": "code",
   "execution_count": 7,
   "id": "a4bdff5a-5e96-4b2d-8b1d-330dc4a3086e",
   "metadata": {},
   "outputs": [
    {
     "name": "stdout",
     "output_type": "stream",
     "text": [
      "  NOMBRE      CARRERA\n",
      "0  maria    Auditoria\n",
      "1   jose  informatica\n",
      "2  david      derecho\n",
      "3   ivan      idiomas\n"
     ]
    }
   ],
   "source": [
    "print(estudiantes)"
   ]
  },
  {
   "cell_type": "code",
   "execution_count": null,
   "id": "1e608460-9819-4e3b-a542-2572e8514fe8",
   "metadata": {},
   "outputs": [],
   "source": []
  }
 ],
 "metadata": {
  "kernelspec": {
   "display_name": "Python [conda env:base] *",
   "language": "python",
   "name": "conda-base-py"
  },
  "language_info": {
   "codemirror_mode": {
    "name": "ipython",
    "version": 3
   },
   "file_extension": ".py",
   "mimetype": "text/x-python",
   "name": "python",
   "nbconvert_exporter": "python",
   "pygments_lexer": "ipython3",
   "version": "3.12.7"
  }
 },
 "nbformat": 4,
 "nbformat_minor": 5
}
